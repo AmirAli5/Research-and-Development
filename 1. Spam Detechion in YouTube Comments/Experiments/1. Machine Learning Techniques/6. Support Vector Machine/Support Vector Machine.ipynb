{
 "cells": [
  {
   "cell_type": "markdown",
   "metadata": {},
   "source": [
    " ![Image.png](Image/Image.png)"
   ]
  },
  {
   "cell_type": "markdown",
   "metadata": {},
   "source": [
    "### Part 1: Import Libraries and Dataset"
   ]
  },
  {
   "cell_type": "code",
   "execution_count": 1,
   "metadata": {},
   "outputs": [],
   "source": [
    "# import Libaries & Packages\n",
    "import numpy as np                  # Import Numpy for data statistical analysis\n",
    "import pandas as pd                 # Import Pandas for data manipulation using dataframes\n",
    "import seaborn as sns               # Statistical data visualization\n",
    "import matplotlib.pyplot as plt     # Import matplotlib for data visualisation"
   ]
  },
  {
   "cell_type": "code",
   "execution_count": 2,
   "metadata": {},
   "outputs": [],
   "source": [
    "# Import Youtube Ham or Spam dataset taken from UCI\n",
    "df1 = pd.read_csv(\"dataset/Youtube01-Psy.csv\")              # Psy youtube channel most viewed video comments dataset\n",
    "df2 = pd.read_csv(\"dataset/Youtube02-KatyPerry.csv\")        # KatyPerry youtube channel most viewed video comments dataset\n",
    "df3 = pd.read_csv(\"dataset/Youtube03-LMFAO.csv\")            # Psy LMFAO channel most viewed video comments dataset\n",
    "df4 = pd.read_csv(\"dataset/Youtube04-Eminem.csv\")           # Eminem youtube channel most viewed video comments dataset\n",
    "df5 = pd.read_csv(\"dataset/Youtube05-Shakira.csv\")          # Shakira youtube channel most viewed video comments dataset"
   ]
  },
  {
   "cell_type": "code",
   "execution_count": 3,
   "metadata": {},
   "outputs": [],
   "source": [
    "# Merge all the datasset into single file\n",
    "frames = [df1,df2,df3,df4,df5]                          # make a list of all file\n",
    "df_merged = pd.concat(frames)                           # concatenate the all the file into single\n",
    "keys = [\"Psy\",\"KatyPerry\",\"LMFAO\",\"Eminem\",\"Shakira\"]   # Merging with Keys\n",
    "df_with_keys = pd.concat(frames,keys=keys)              # concatenate data with keys\n",
    "dataset=df_with_keys"
   ]
  },
  {
   "cell_type": "code",
   "execution_count": 4,
   "metadata": {},
   "outputs": [
    {
     "name": "stdout",
     "output_type": "stream",
     "text": [
      "9780\n",
      "(1956, 5)\n",
      "Index(['COMMENT_ID', 'AUTHOR', 'DATE', 'CONTENT', 'CLASS'], dtype='object')\n"
     ]
    }
   ],
   "source": [
    "# Infomation about dataset\n",
    "print(dataset.size)                 # size of dataset\n",
    "print(dataset.shape)                # shape of datadet\n",
    "print(dataset.keys())               # attributes of dataset"
   ]
  },
  {
   "cell_type": "markdown",
   "metadata": {},
   "source": [
    "### Part 2: Data Preprocessing"
   ]
  },
  {
   "cell_type": "code",
   "execution_count": 5,
   "metadata": {},
   "outputs": [],
   "source": [
    "# working with text content\n",
    "dataset = dataset[[\"CONTENT\" , \"CLASS\"]]             # context = comments of viewers & Class = ham or Spam"
   ]
  },
  {
   "cell_type": "code",
   "execution_count": 6,
   "metadata": {},
   "outputs": [],
   "source": [
    "# Predictor and Target attribute\n",
    "dataset_X = dataset['CONTENT']                       # predictor attribute\n",
    "dataset_y = dataset['CLASS']                         # target attribute"
   ]
  },
  {
   "cell_type": "code",
   "execution_count": 7,
   "metadata": {},
   "outputs": [],
   "source": [
    "# Feature Extraction from Text using  TF-IDF model\n",
    "from sklearn.feature_extraction.text import TfidfVectorizer   # import TF-IDF model from scikit Learn"
   ]
  },
  {
   "cell_type": "code",
   "execution_count": 8,
   "metadata": {},
   "outputs": [],
   "source": [
    "# Extract Feature With TF-IDF model \n",
    "corpus = dataset_X                               # declare the variable\n",
    "cv = TfidfVectorizer()                           # initialize the TF-IDF  model\n",
    "X = cv.fit_transform(corpus).toarray()           # fit the corpus data into BOW model"
   ]
  },
  {
   "cell_type": "code",
   "execution_count": 9,
   "metadata": {},
   "outputs": [],
   "source": [
    "# Split the dataset into Train and Test\n",
    "from sklearn.model_selection import train_test_split\n",
    "X_train, X_test, y_train, y_test = train_test_split(X, dataset_y, test_size=0.2, random_state=0)"
   ]
  },
  {
   "cell_type": "code",
   "execution_count": 10,
   "metadata": {},
   "outputs": [
    {
     "data": {
      "text/plain": [
       "(1956, 4454)"
      ]
     },
     "execution_count": 10,
     "metadata": {},
     "output_type": "execute_result"
    }
   ],
   "source": [
    "# shape of predictor attrbute after Extract Features\n",
    "X.shape"
   ]
  },
  {
   "cell_type": "markdown",
   "metadata": {},
   "source": [
    "### Part 3: Building a Model"
   ]
  },
  {
   "cell_type": "code",
   "execution_count": 11,
   "metadata": {},
   "outputs": [],
   "source": [
    "# import the model from sklean\n",
    "from sklearn.svm import SVC             # import the Support Vector Machine Classifier model"
   ]
  },
  {
   "cell_type": "code",
   "execution_count": 12,
   "metadata": {},
   "outputs": [],
   "source": [
    " # initialize the model\n",
    "classifier = SVC(kernel = 'linear', random_state= 0)                                    "
   ]
  },
  {
   "cell_type": "code",
   "execution_count": 13,
   "metadata": {},
   "outputs": [
    {
     "data": {
      "text/plain": [
       "SVC(C=1.0, cache_size=200, class_weight=None, coef0=0.0,\n",
       "  decision_function_shape='ovr', degree=3, gamma='auto_deprecated',\n",
       "  kernel='linear', max_iter=-1, probability=False, random_state=0,\n",
       "  shrinking=True, tol=0.001, verbose=False)"
      ]
     },
     "execution_count": 13,
     "metadata": {},
     "output_type": "execute_result"
    }
   ],
   "source": [
    "# fit the dataset into our classifier model for training\n",
    "classifier.fit(X_train, y_train)"
   ]
  },
  {
   "cell_type": "markdown",
   "metadata": {},
   "source": [
    "### Part 4: Making a Prediction and Evaluate the Result"
   ]
  },
  {
   "cell_type": "code",
   "execution_count": 14,
   "metadata": {},
   "outputs": [
    {
     "name": "stdout",
     "output_type": "stream",
     "text": [
      "[0 0 1 0 0 1 1 0 1 0 0 0 0 1 1 1 0 0 1 0 1 1 1 1 0 1 1 1 0 0 0 1 1 1 0 1 0\n",
      " 0 0 0 1 0 1 0 1 1 1 1 0 1 1 0 0 1 0 1 1 1 0 0 0 1 0 0 0 1 1 1 1 0 1 0 0 1\n",
      " 0 0 0 1 0 1 0 1 0 0 0 1 1 1 0 1 0 1 1 0 0 1 0 0 1 1 0 0 0 1 1 1 1 1 0 1 0\n",
      " 0 1 1 1 0 1 1 1 1 1 1 1 0 0 0 1 0 1 1 0 0 0 0 0 0 1 0 1 0 1 0 1 1 1 1 0 0\n",
      " 1 1 1 0 0 1 0 0 1 1 0 1 0 1 1 1 0 0 0 1 0 1 1 0 1 0 1 0 0 1 1 1 1 1 0 1 0\n",
      " 0 1 0 0 0 0 1 1 0 0 0 0 1 1 1 0 0 1 1 1 1 1 0 0 0 1 0 1 1 1 0 0 0 0 0 0 0\n",
      " 1 1 0 0 1 0 0 1 1 1 1 1 0 1 1 0 1 1 0 1 0 1 0 0 1 0 0 0 1 1 0 1 1 1 0 0 1\n",
      " 1 1 1 0 0 0 0 1 0 1 0 0 1 1 1 0 1 0 1 0 1 1 1 0 0 1 0 1 1 1 0 0 0 0 0 0 0\n",
      " 1 0 1 0 1 0 1 1 0 0 1 0 1 0 1 0 0 0 0 1 1 0 1 0 0 1 1 1 1 1 0 0 0 0 0 1 1\n",
      " 0 1 0 1 0 1 1 1 1 1 1 0 0 0 0 0 0 1 1 0 1 1 1 1 0 1 0 0 1 0 1 1 1 0 1 0 1\n",
      " 1 1 0 0 0 1 1 0 1 0 0 0 0 1 0 1 0 0 1 1 1 0]\n"
     ]
    }
   ],
   "source": [
    "# predict the result\n",
    "y_pred = classifier.predict(X_test)\n",
    "print(y_pred)"
   ]
  },
  {
   "cell_type": "code",
   "execution_count": 15,
   "metadata": {},
   "outputs": [
    {
     "name": "stdout",
     "output_type": "stream",
     "text": [
      "[[178   5]\n",
      " [ 15 194]]\n"
     ]
    }
   ],
   "source": [
    "# Making a Confusion Matrix\n",
    "from sklearn.metrics import confusion_matrix\n",
    "confusion_matrix= confusion_matrix(y_test, y_pred)\n",
    "print(confusion_matrix)\n",
    "#[row, column]\n",
    "TP = confusion_matrix[1, 1]        \n",
    "TN = confusion_matrix[0, 0]           \n",
    "FP = confusion_matrix[0, 1]           \n",
    "FN = confusion_matrix[1, 0]"
   ]
  },
  {
   "cell_type": "code",
   "execution_count": 16,
   "metadata": {},
   "outputs": [
    {
     "name": "stdout",
     "output_type": "stream",
     "text": [
      "Accuracy Score: 0.9489795918367347\n",
      "Precision Score: 0.9748743718592965\n",
      "True positive Rate: 0.9282296650717703\n",
      "False positive Rate 0.0273224043715847\n",
      "F1 Score: 0.9509803921568627\n",
      "Specificity: 0.9726775956284153\n",
      "Mean Absolute Error: 0.05102040816326531\n",
      "ROC Area: 0.9504536303500928\n"
     ]
    }
   ],
   "source": [
    "# Evaluate the Result\n",
    "from sklearn.metrics import accuracy_score, precision_score, recall_score, f1_score, mean_absolute_error, roc_auc_score\n",
    " \n",
    "# Accuracy Score \n",
    "print('Accuracy Score:', accuracy_score(y_test, y_pred)) \n",
    "\n",
    "# Precision Score\n",
    "print('Precision Score:', precision_score(y_test, y_pred))   \n",
    "\n",
    "# True positive Rate (TPR) or Sensitivity or Recall    \n",
    "print('True positive Rate:', recall_score(y_test, y_pred))             \n",
    "\n",
    "# False positive Rate (FPR)\n",
    "print('False positive Rate', FP / float(TN + FP))                       \n",
    "\n",
    "# F1 Score or F-Measure or F-Score\n",
    "print('F1 Score:', f1_score(y_test, y_pred))                 \n",
    "\n",
    "# Specificity\n",
    "print('Specificity:', TN / (TN + FP))                    \n",
    "\n",
    "# Mean Absolute Error\n",
    "print('Mean Absolute Error:', mean_absolute_error(y_test, y_pred))   \n",
    "\n",
    "# ROC Area\n",
    "print('ROC Area:', roc_auc_score(y_test, y_pred)) "
   ]
  },
  {
   "cell_type": "markdown",
   "metadata": {},
   "source": [
    "### Part 5: Save, Load and Used this Model"
   ]
  },
  {
   "cell_type": "code",
   "execution_count": 17,
   "metadata": {},
   "outputs": [],
   "source": [
    "# import pickle library \n",
    "import pickle               # pickle used for serializing and de-serializing a Python object structure"
   ]
  },
  {
   "cell_type": "code",
   "execution_count": 18,
   "metadata": {},
   "outputs": [],
   "source": [
    "# save the model\n",
    "Support_Vector_Machine = open(\"Support Vector Machine.pkl\",\"wb\")          # open the file for writing\n",
    "pickle.dump(classifier,Support_Vector_Machine)                            # dumps an object to a file object\n",
    "Support_Vector_Machine.close()                                            # here we close the fileObject"
   ]
  },
  {
   "cell_type": "code",
   "execution_count": 19,
   "metadata": {},
   "outputs": [
    {
     "data": {
      "text/plain": [
       "SVC(C=1.0, cache_size=200, class_weight=None, coef0=0.0,\n",
       "  decision_function_shape='ovr', degree=3, gamma='auto_deprecated',\n",
       "  kernel='linear', max_iter=-1, probability=False, random_state=0,\n",
       "  shrinking=True, tol=0.001, verbose=False)"
      ]
     },
     "execution_count": 19,
     "metadata": {},
     "output_type": "execute_result"
    }
   ],
   "source": [
    "# Load the model\n",
    "ytb_model = open(\"Support Vector Machine.pkl\",\"rb\")           # open the file for reading\n",
    "new_model = pickle.load(ytb_model)                            # load the object from the file into new_model\n",
    "new_model"
   ]
  },
  {
   "cell_type": "code",
   "execution_count": 20,
   "metadata": {},
   "outputs": [
    {
     "data": {
      "text/plain": [
       "array([1], dtype=int64)"
      ]
     },
     "execution_count": 20,
     "metadata": {},
     "output_type": "execute_result"
    }
   ],
   "source": [
    "# Used the model for Prediction\n",
    "comment = [\"Hey Music Fans I really appreciate all of you,but see this song too\"]\n",
    "vect = cv.transform(comment).toarray()\n",
    "new_model.predict(vect)"
   ]
  },
  {
   "cell_type": "code",
   "execution_count": 21,
   "metadata": {},
   "outputs": [
    {
     "name": "stdout",
     "output_type": "stream",
     "text": [
      "Spam\n"
     ]
    }
   ],
   "source": [
    "if new_model.predict(vect) == 1:\n",
    "    print(\"Spam\")\n",
    "else:\n",
    "    print(\"Ham\")"
   ]
  },
  {
   "cell_type": "markdown",
   "metadata": {},
   "source": [
    "#### for any query: amirali.cheema@outlook.com"
   ]
  }
 ],
 "metadata": {
  "kernelspec": {
   "display_name": "Python 3",
   "language": "python",
   "name": "python3"
  },
  "language_info": {
   "codemirror_mode": {
    "name": "ipython",
    "version": 3
   },
   "file_extension": ".py",
   "mimetype": "text/x-python",
   "name": "python",
   "nbconvert_exporter": "python",
   "pygments_lexer": "ipython3",
   "version": "3.6.1"
  }
 },
 "nbformat": 4,
 "nbformat_minor": 2
}
