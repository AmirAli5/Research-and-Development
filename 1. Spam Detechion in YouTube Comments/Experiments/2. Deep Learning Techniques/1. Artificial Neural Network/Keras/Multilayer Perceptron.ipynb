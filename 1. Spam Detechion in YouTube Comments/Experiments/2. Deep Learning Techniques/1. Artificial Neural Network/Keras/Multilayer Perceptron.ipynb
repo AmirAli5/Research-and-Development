{
 "cells": [
  {
   "cell_type": "markdown",
   "metadata": {},
   "source": [
    " ![Image.png](Image/Image.png)"
   ]
  },
  {
   "cell_type": "markdown",
   "metadata": {},
   "source": [
    "### Part 1: Import Libraries and Dataset"
   ]
  },
  {
   "cell_type": "code",
   "execution_count": 66,
   "metadata": {},
   "outputs": [],
   "source": [
    "# import Libaries & Packages\n",
    "import numpy as np                  # Import Numpy for data statistical analysis\n",
    "import pandas as pd                 # Import Pandas for data manipulation using dataframes\n",
    "import seaborn as sns               # Statistical data visualization\n",
    "import matplotlib.pyplot as plt     # Import matplotlib for data visualisation"
   ]
  },
  {
   "cell_type": "code",
   "execution_count": 67,
   "metadata": {},
   "outputs": [],
   "source": [
    "# Import Youtube Ham or Spam dataset taken from UCI\n",
    "df1 = pd.read_csv(\"dataset/Youtube01-Psy.csv\")              # Psy youtube channel most viewed video comments dataset\n",
    "df2 = pd.read_csv(\"dataset/Youtube02-KatyPerry.csv\")        # KatyPerry youtube channel most viewed video comments dataset\n",
    "df3 = pd.read_csv(\"dataset/Youtube03-LMFAO.csv\")            # Psy LMFAO channel most viewed video comments dataset\n",
    "df4 = pd.read_csv(\"dataset/Youtube04-Eminem.csv\")           # Eminem youtube channel most viewed video comments dataset\n",
    "df5 = pd.read_csv(\"dataset/Youtube05-Shakira.csv\")          # Shakira youtube channel most viewed video comments dataset"
   ]
  },
  {
   "cell_type": "code",
   "execution_count": 68,
   "metadata": {},
   "outputs": [],
   "source": [
    "# Merge all the datasset into single file\n",
    "frames = [df1,df2,df3,df4,df5]                          # make a list of all file\n",
    "df_merged = pd.concat(frames)                           # concatenate the all the file into single\n",
    "keys = [\"Psy\",\"KatyPerry\",\"LMFAO\",\"Eminem\",\"Shakira\"]   # Merging with Keys\n",
    "df_with_keys = pd.concat(frames,keys=keys)              # concatenate data with keys\n",
    "dataset=df_with_keys"
   ]
  },
  {
   "cell_type": "code",
   "execution_count": 69,
   "metadata": {},
   "outputs": [
    {
     "name": "stdout",
     "output_type": "stream",
     "text": [
      "9780\n",
      "(1956, 5)\n",
      "Index(['COMMENT_ID', 'AUTHOR', 'DATE', 'CONTENT', 'CLASS'], dtype='object')\n"
     ]
    }
   ],
   "source": [
    "# Infomation about dataset\n",
    "print(dataset.size)                 # size of dataset\n",
    "print(dataset.shape)                # shape of datadet\n",
    "print(dataset.keys())               # attributes of dataset"
   ]
  },
  {
   "cell_type": "markdown",
   "metadata": {},
   "source": [
    "### Part 2: Data Preprocessing"
   ]
  },
  {
   "cell_type": "code",
   "execution_count": 70,
   "metadata": {},
   "outputs": [],
   "source": [
    "# working with text content\n",
    "dataset = dataset[[\"CONTENT\" , \"CLASS\"]]             # context = comments of viewers & Class = ham or Spam"
   ]
  },
  {
   "cell_type": "code",
   "execution_count": 71,
   "metadata": {},
   "outputs": [],
   "source": [
    "# Predictor and Target attribute\n",
    "dataset_X = dataset['CONTENT']                       # predictor attribute\n",
    "dataset_y = dataset['CLASS']                         # target attribute"
   ]
  },
  {
   "cell_type": "code",
   "execution_count": 72,
   "metadata": {},
   "outputs": [],
   "source": [
    "# Feature Extraction from Text using  TF-IDF model\n",
    "from sklearn.feature_extraction.text import TfidfVectorizer   # import TF-IDF model from scikit Learn"
   ]
  },
  {
   "cell_type": "code",
   "execution_count": 73,
   "metadata": {},
   "outputs": [
    {
     "name": "stdout",
     "output_type": "stream",
     "text": [
      "[[0. 0. 0. ... 0. 0. 0.]\n",
      " [0. 0. 0. ... 0. 0. 0.]\n",
      " [0. 0. 0. ... 0. 0. 0.]\n",
      " ...\n",
      " [0. 0. 0. ... 0. 0. 0.]\n",
      " [0. 0. 0. ... 0. 0. 0.]\n",
      " [0. 0. 0. ... 0. 0. 0.]]\n"
     ]
    }
   ],
   "source": [
    "# Extract Feature With TF-IDF model \n",
    "corpus = dataset_X                               # declare the variable\n",
    "cv = TfidfVectorizer()                           # initialize the TF-IDF  model\n",
    "X = cv.fit_transform(corpus).toarray()           # fit the corpus data into BOW model\n",
    "print(X)"
   ]
  },
  {
   "cell_type": "code",
   "execution_count": 74,
   "metadata": {},
   "outputs": [],
   "source": [
    "# Split the dataset into Train and Test\n",
    "from sklearn.model_selection import train_test_split\n",
    "X_train, X_test, y_train, y_test = train_test_split(X, dataset_y, test_size=0.2, random_state=0)"
   ]
  },
  {
   "cell_type": "code",
   "execution_count": 75,
   "metadata": {},
   "outputs": [
    {
     "data": {
      "text/plain": [
       "(1956, 4454)"
      ]
     },
     "execution_count": 75,
     "metadata": {},
     "output_type": "execute_result"
    }
   ],
   "source": [
    "# shape of predictor attrbute after Extract Features\n",
    "X.shape"
   ]
  },
  {
   "cell_type": "markdown",
   "metadata": {},
   "source": [
    "### Part 3: Building a Model"
   ]
  },
  {
   "cell_type": "code",
   "execution_count": 90,
   "metadata": {},
   "outputs": [],
   "source": [
    "# import keras libraries and packages\n",
    "import keras                           # build the deep neural network based on Tensorflow because we use Tensorflow backhand\n",
    "from keras.models import Sequential    # used for initialize our ANN model \n",
    "from keras.layers import Dense         # used for adding different layers of ANN."
   ]
  },
  {
   "cell_type": "code",
   "execution_count": 91,
   "metadata": {},
   "outputs": [],
   "source": [
    "# initialising the ANN\n",
    "classifier=Sequential()"
   ]
  },
  {
   "cell_type": "code",
   "execution_count": 92,
   "metadata": {},
   "outputs": [
    {
     "name": "stderr",
     "output_type": "stream",
     "text": [
      "C:\\Users\\amira\\Anaconda3\\lib\\site-packages\\ipykernel_launcher.py:2: UserWarning: Update your `Dense` call to the Keras 2 API: `Dense(activation=\"relu\", input_dim=4454, units=2227, kernel_initializer=\"uniform\")`\n",
      "  \n"
     ]
    }
   ],
   "source": [
    "# adding the input layer and first hidden layer\n",
    "classifier.add(Dense(output_dim = 2227 , init = 'uniform' , activation = 'relu' , input_dim = 4454))"
   ]
  },
  {
   "cell_type": "code",
   "execution_count": 93,
   "metadata": {},
   "outputs": [
    {
     "name": "stderr",
     "output_type": "stream",
     "text": [
      "C:\\Users\\amira\\Anaconda3\\lib\\site-packages\\ipykernel_launcher.py:2: UserWarning: Update your `Dense` call to the Keras 2 API: `Dense(activation=\"relu\", units=2227, kernel_initializer=\"uniform\")`\n",
      "  \n"
     ]
    }
   ],
   "source": [
    "# adding the second hidden layer\n",
    "classifier.add(Dense(output_dim = 2227 , init = 'uniform' , activation = 'relu' ))"
   ]
  },
  {
   "cell_type": "code",
   "execution_count": 94,
   "metadata": {},
   "outputs": [
    {
     "name": "stderr",
     "output_type": "stream",
     "text": [
      "C:\\Users\\amira\\Anaconda3\\lib\\site-packages\\ipykernel_launcher.py:2: UserWarning: Update your `Dense` call to the Keras 2 API: `Dense(activation=\"sigmoid\", units=1, kernel_initializer=\"uniform\")`\n",
      "  \n"
     ]
    }
   ],
   "source": [
    "# adding the output layer\n",
    "classifier.add(Dense(output_dim = 1 , init = 'uniform' , activation = 'sigmoid' ))"
   ]
  },
  {
   "cell_type": "code",
   "execution_count": 95,
   "metadata": {},
   "outputs": [],
   "source": [
    "# compiling the ANN\n",
    "classifier.compile(optimizer = 'adam' , loss='binary_crossentropy' , metrics=['accuracy'])"
   ]
  },
  {
   "cell_type": "code",
   "execution_count": 104,
   "metadata": {},
   "outputs": [
    {
     "name": "stderr",
     "output_type": "stream",
     "text": [
      "C:\\Users\\amira\\Anaconda3\\lib\\site-packages\\ipykernel_launcher.py:2: UserWarning: The `nb_epoch` argument in `fit` has been renamed `epochs`.\n",
      "  \n"
     ]
    },
    {
     "name": "stdout",
     "output_type": "stream",
     "text": [
      "Epoch 1/1\n",
      "1564/1564 [==============================] - 25s 16ms/step - loss: 0.0027 - acc: 0.9994\n"
     ]
    },
    {
     "data": {
      "text/plain": [
       "<keras.callbacks.History at 0x1923c374e48>"
      ]
     },
     "execution_count": 104,
     "metadata": {},
     "output_type": "execute_result"
    }
   ],
   "source": [
    "# fiting the ANN to the training set\n",
    "classifier.fit(X_train, y_train, batch_size=32, nb_epoch=1)"
   ]
  },
  {
   "cell_type": "markdown",
   "metadata": {},
   "source": [
    "### Part 4: Making a Prediction and Evaluate the Result"
   ]
  },
  {
   "cell_type": "code",
   "execution_count": 105,
   "metadata": {},
   "outputs": [],
   "source": [
    "# predict the result\n",
    "y_pred = classifier.predict(X_test)\n",
    "y_pred = (y_pred > 0.5)               # probability above 50 considered 1 and below 50 considered 0"
   ]
  },
  {
   "cell_type": "code",
   "execution_count": 106,
   "metadata": {},
   "outputs": [
    {
     "name": "stdout",
     "output_type": "stream",
     "text": [
      "[[172  11]\n",
      " [  9 200]]\n"
     ]
    }
   ],
   "source": [
    "# Making a Confusion Matrix\n",
    "from sklearn.metrics import confusion_matrix\n",
    "confusion_matrix= confusion_matrix(y_test, y_pred)\n",
    "print(confusion_matrix)\n",
    "#[row, column]\n",
    "TP = confusion_matrix[1, 1]        \n",
    "TN = confusion_matrix[0, 0]           \n",
    "FP = confusion_matrix[0, 1]           \n",
    "FN = confusion_matrix[1, 0]"
   ]
  },
  {
   "cell_type": "code",
   "execution_count": 107,
   "metadata": {},
   "outputs": [
    {
     "name": "stdout",
     "output_type": "stream",
     "text": [
      "Accuracy Score: 0.9489795918367347\n",
      "Precision Score: 0.9478672985781991\n",
      "True positive Rate: 0.9569377990430622\n",
      "False positive Rate 0.060109289617486336\n",
      "F1 Score: 0.9523809523809523\n",
      "Specificity: 0.9398907103825137\n",
      "Mean Absolute Error: 0.05102040816326531\n",
      "ROC Area: 0.9484142547127881\n"
     ]
    }
   ],
   "source": [
    "# Evaluate the Result\n",
    "from sklearn.metrics import accuracy_score, precision_score, recall_score, f1_score, mean_absolute_error, roc_auc_score\n",
    " \n",
    "# Accuracy Score \n",
    "print('Accuracy Score:', accuracy_score(y_test, y_pred)) \n",
    "\n",
    "# Precision Score\n",
    "print('Precision Score:', precision_score(y_test, y_pred))   \n",
    "\n",
    "# True positive Rate (TPR) or Sensitivity or Recall    \n",
    "print('True positive Rate:', recall_score(y_test, y_pred))             \n",
    "\n",
    "# False positive Rate (FPR)\n",
    "print('False positive Rate', FP / float(TN + FP))                       \n",
    "\n",
    "# F1 Score or F-Measure or F-Score\n",
    "print('F1 Score:', f1_score(y_test, y_pred))                 \n",
    "\n",
    "# Specificity\n",
    "print('Specificity:', TN / (TN + FP))                    \n",
    "\n",
    "# Mean Absolute Error\n",
    "print('Mean Absolute Error:', mean_absolute_error(y_test, y_pred))   \n",
    "\n",
    "# ROC Area\n",
    "print('ROC Area:', roc_auc_score(y_test, y_pred)) "
   ]
  },
  {
   "cell_type": "markdown",
   "metadata": {},
   "source": [
    "### Part 5: Save, Load and Used this Model"
   ]
  },
  {
   "cell_type": "code",
   "execution_count": 108,
   "metadata": {},
   "outputs": [],
   "source": [
    "# import pickle library \n",
    "import pickle               # pickle used for serializing and de-serializing a Python object structure"
   ]
  },
  {
   "cell_type": "code",
   "execution_count": 109,
   "metadata": {},
   "outputs": [],
   "source": [
    "# save the model\n",
    "Multilayer_Perceptron = open(\"Multilayer Perceptron.pkl\",\"wb\")          # open the file for writing\n",
    "pickle.dump(classifier,Multilayer_Perceptron)                           # dumps an object to a file object\n",
    "Multilayer_Perceptron.close()                                           # here we close the fileObject"
   ]
  },
  {
   "cell_type": "code",
   "execution_count": 110,
   "metadata": {},
   "outputs": [
    {
     "data": {
      "text/plain": [
       "<keras.engine.sequential.Sequential at 0x1923c5c75f8>"
      ]
     },
     "execution_count": 110,
     "metadata": {},
     "output_type": "execute_result"
    }
   ],
   "source": [
    "# Load the model\n",
    "ytb_model = open(\"Multilayer Perceptron.pkl\",\"rb\")           # open the file for reading\n",
    "new_model = pickle.load(ytb_model)                           # load the object from the file into new_model\n",
    "new_model"
   ]
  },
  {
   "cell_type": "code",
   "execution_count": 111,
   "metadata": {},
   "outputs": [
    {
     "data": {
      "text/plain": [
       "array([[0.9998117]], dtype=float32)"
      ]
     },
     "execution_count": 111,
     "metadata": {},
     "output_type": "execute_result"
    }
   ],
   "source": [
    "# Used the model for Prediction\n",
    "comment = [\"Hey Music Fans I really appreciate all of you,but see this song too\"]\n",
    "vect = cv.transform(comment).toarray()\n",
    "new_model.predict(vect)"
   ]
  },
  {
   "cell_type": "code",
   "execution_count": 112,
   "metadata": {},
   "outputs": [
    {
     "name": "stdout",
     "output_type": "stream",
     "text": [
      "Ham\n"
     ]
    }
   ],
   "source": [
    "if new_model.predict(vect) == 1:\n",
    "    print(\"Spam\")\n",
    "else:\n",
    "    print(\"Ham\")"
   ]
  },
  {
   "cell_type": "markdown",
   "metadata": {},
   "source": [
    "#### for any query: amirali.cheema@outlook.com"
   ]
  }
 ],
 "metadata": {
  "kernelspec": {
   "display_name": "Python 3",
   "language": "python",
   "name": "python3"
  },
  "language_info": {
   "codemirror_mode": {
    "name": "ipython",
    "version": 3
   },
   "file_extension": ".py",
   "mimetype": "text/x-python",
   "name": "python",
   "nbconvert_exporter": "python",
   "pygments_lexer": "ipython3",
   "version": "3.6.1"
  }
 },
 "nbformat": 4,
 "nbformat_minor": 2
}
